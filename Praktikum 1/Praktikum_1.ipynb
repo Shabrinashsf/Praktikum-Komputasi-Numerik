import numpy as np
import matplotlib.pyplot as plt
import pandas as pd

# Input user
fx_str = input("Masukkan fungsi f(x), contoh: x**3 - 100 : ")
x1 = float(input("Masukkan nilai X1: "))
x2 = float(input("Masukkan nilai X2: "))

# Convert fungsi string tadi
def f(x):
    return eval(fx_str)

# Regula Falsi
def regula_falsi(f, x1, x2, tol=1e-6, max_iter=100):
    if f(x1) * f(x2) >= 0:
        raise ValueError("f(x1) dan f(x2) harus beda tanda!")

    data = []

    for i in range(1, max_iter + 1):
        x3 = (x1 * f(x2) - x2 * f(x1)) / (f(x2) - f(x1))
        fx1 = f(x1)
        fx2 = f(x2)
        fx3 = f(x3)
        data.append([i, x1, x2, x3, fx1, fx2, fx3])

        if abs(fx3) < tol:
            break

        if fx1 * fx3 < 0:
            x2 = x3
        else:
            x1 = x3

    df = pd.DataFrame(data, columns=["Iterasi", "X1", "X2", "X3", "f(X1)", "f(X2)", "f(X3)"])
    return x3, df

try:
    akar, tabel = regula_falsi(f, x1, x2)
    print("\nTabel Iterasi Regula Falsi:\n")
    print(tabel)

    # Plot grafik fungsi
    x_vals = np.linspace(min(x1, x2) - 1, max(x1, x2) + 1, 400)
    y_vals = [f(x) for x in x_vals]

    plt.figure(figsize=(10, 6))
    plt.plot(x_vals, y_vals, label="f(x)", color="blue")
    plt.axhline(0, color='black', linewidth=0.7)

    # Ambil titik-titik dari X3 dan f(X3)
    x3_points = tabel["X3"]
    fx3_points = tabel["f(X3)"]
    plt.plot(x3_points, fx3_points, 'ro', label='Titik Regula Falsi (X3)')

    for i, (x, y) in enumerate(zip(x3_points, fx3_points)):
        plt.text(x, y, f'{i+1}', fontsize=9, ha='right')

    plt.title("Metode Regula Falsi")
    plt.xlabel("x")
    plt.ylabel("f(x)")
    plt.legend()
    plt.grid(True)
    plt.show()

    print(f"\nAkar hampiran ditemukan: {akar}")

except Exception as e:
    print(f"⚠️ ERROR: {e}")
