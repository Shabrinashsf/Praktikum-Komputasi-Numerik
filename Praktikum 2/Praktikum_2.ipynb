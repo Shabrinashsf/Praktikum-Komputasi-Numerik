import math

def f(x):
    return eval(fungsi_input, {"x": x, "math": math, "sin": math.sin, "cos": math.cos, "exp": math.exp, "log": math.log})

def trapezoid(f, a, b, n):
    h = (b - a) / n
    s = 0.5 * (f(a) + f(b))
    for i in range(1, n):
        s += f(a + i * h)
    return h * s

def romberg(f, a, b, m):
    R = [[0 for _ in range(m)] for _ in range(m)]
    for i in range(m):
        n = 2 ** i
        R[i][0] = trapezoid(f, a, b, n)
        for k in range(1, i + 1):
            R[i][k] = (4 ** k * R[i][k - 1] - R[i - 1][k - 1]) / (4 ** k - 1)
    return R

# === Input dari pengguna ===
fungsi_input = input("Masukkan fungsi f(x): ")
a = float(input("Batas bawah a: "))
b = float(input("Batas atas b: "))
m = int(input("Banyak iterasi Romberg: "))
hasil_analitik_input = input("Masukkan hasil analitik (jika tidak tahu, masukkan '-'): ")

# Konversi hasil analitik jika diketahui
analitik_diketahui = hasil_analitik_input.strip() != "-"
if analitik_diketahui:
    hasil_analitik = float(hasil_analitik_input)

print("\n=== HASIL TRAPEZOIDA ===")
for i in range(1, 7):
    n = 2 ** i
    hasil = trapezoid(f, a, b, n)
    print(f"n = {n:<4} Hasil = {hasil:.10f}")
    if analitik_diketahui:
        err = abs(hasil - hasil_analitik)
        err_percent = (err / abs(hasil_analitik)) * 100
        print(f"       Selisih absolut       : {err:.10f}")
        print(f"       Selisih persen error  : {err_percent:.6f}%")

print("\n=== HASIL ROMBERG ===")
R = romberg(f, a, b, m)
for i in range(m):
    hasil_romberg = R[i][i]
    print(f"Iterasi {i+1:<2} Hasil = {hasil_romberg:.10f}")
    if analitik_diketahui:
        err = abs(hasil_romberg - hasil_analitik)
        err_percent = (err / abs(hasil_analitik)) * 100
        print(f"           Selisih absolut       : {err:.10f}")
        print(f"           Selisih persen error  : {err_percent:.6f}%")
